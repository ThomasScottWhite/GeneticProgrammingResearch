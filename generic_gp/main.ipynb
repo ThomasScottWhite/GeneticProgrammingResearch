{
 "cells": [
  {
   "cell_type": "code",
   "execution_count": 24,
   "metadata": {},
   "outputs": [],
   "source": [
    "import random\n",
    "import matplotlib.pyplot as plt\n",
    "import networkx as nx\n",
    "from typing import Callable, List, Union\n",
    "from typing import Optional, Union\n",
    "import random\n",
    "\n",
    "from helper import plot_tree\n",
    "from data_structures import Variable, Node\n",
    "from sets import basic_math_functions, generate_terminal_set, int_constant_set\n",
    "from generators import generate_node_tree"
   ]
  },
  {
   "cell_type": "code",
   "execution_count": 25,
   "metadata": {},
   "outputs": [],
   "source": [
    "input_vectors: List[List[int]] = [[0, 1], [1, 2], [2, 3], [3, 4], [4, 5], [5, 6]]\n",
    "expected_output_vectors: List[int] = [0,1,2,3,4,5]\n",
    "\n",
    "\n",
    "function_set = basic_math_functions\n",
    "terminal_set = generate_terminal_set(input_vectors)\n",
    "constant_set = int_constant_set"
   ]
  },
  {
   "cell_type": "code",
   "execution_count": 26,
   "metadata": {},
   "outputs": [],
   "source": [
    "def execute_tree(node : Node):\n",
    "    if callable(node.value):\n",
    "        return node.value(execute_tree(node.left), execute_tree(node.right))\n",
    "    if isinstance(node.value, Variable):\n",
    "        return node.value.value\n",
    "    else:\n",
    "        return node.value"
   ]
  },
  {
   "cell_type": "code",
   "execution_count": null,
   "metadata": {},
   "outputs": [],
   "source": [
    "def run(tree, input_vectors):\n",
    "    output = []\n",
    "    for input_vector in (input_vectors):\n",
    "        for value, var in zip(input_vector,terminal_set):\n",
    "            var.value = value\n",
    "            \n",
    "        output.append(execute_tree(tree))\n",
    "    return output"
   ]
  },
  {
   "cell_type": "code",
   "execution_count": 28,
   "metadata": {},
   "outputs": [],
   "source": [
    "def MSE(predicted, actual):\n",
    "    sumation = 0\n",
    "    for y, yhat in zip(predicted, actual):\n",
    "        sumation += (y - yhat) ** 2\n",
    "    return sumation / len(predicted)"
   ]
  },
  {
   "cell_type": "code",
   "execution_count": 29,
   "metadata": {},
   "outputs": [
    {
     "name": "stdout",
     "output_type": "stream",
     "text": [
      "3.0548980933596313\n"
     ]
    }
   ],
   "source": [
    "predicted = run(input_vectors)\n",
    "print(MSE(predicted, expected_output_vectors))"
   ]
  },
  {
   "cell_type": "code",
   "execution_count": 30,
   "metadata": {},
   "outputs": [],
   "source": [
    "class individual:\n",
    "    genome: Node\n",
    "    fitness: float\n",
    "\n",
    "    def __init__(self, genome, fitness):\n",
    "        self.genome = genome\n",
    "        self.fitness = fitness"
   ]
  },
  {
   "cell_type": "code",
   "execution_count": 31,
   "metadata": {},
   "outputs": [],
   "source": [
    "def generate_population(size=100):\n",
    "    population : list[individual]= []\n",
    "    for i in range(size):\n",
    "        population.append(individual(generate_node_tree(function_set, terminal_set, constant_set, 4), 0))\n",
    "    return population"
   ]
  },
  {
   "cell_type": "code",
   "execution_count": 34,
   "metadata": {},
   "outputs": [],
   "source": [
    "population = generate_population(100)"
   ]
  },
  {
   "cell_type": "code",
   "execution_count": null,
   "metadata": {},
   "outputs": [],
   "source": [
    "# def evaluate_population():\n",
    "for individual in population:\n",
    "    predicted = run(individual.genome, input)\n",
    "    individual.fitness = MSE(individual.genome)"
   ]
  }
 ],
 "metadata": {
  "kernelspec": {
   "display_name": "base",
   "language": "python",
   "name": "python3"
  },
  "language_info": {
   "codemirror_mode": {
    "name": "ipython",
    "version": 3
   },
   "file_extension": ".py",
   "mimetype": "text/x-python",
   "name": "python",
   "nbconvert_exporter": "python",
   "pygments_lexer": "ipython3",
   "version": "3.12.5"
  }
 },
 "nbformat": 4,
 "nbformat_minor": 2
}
